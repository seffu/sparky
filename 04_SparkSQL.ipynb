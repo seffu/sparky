{
 "cells": [
  {
   "cell_type": "code",
   "execution_count": 1,
   "metadata": {},
   "outputs": [
    {
     "name": "stderr",
     "output_type": "stream",
     "text": [
      "WARNING: An illegal reflective access operation has occurred\n",
      "WARNING: Illegal reflective access by org.apache.spark.unsafe.Platform (file:/usr/local/spark-3.1.2-bin-hadoop3.2/jars/spark-unsafe_2.12-3.1.2.jar) to constructor java.nio.DirectByteBuffer(long,int)\n",
      "WARNING: Please consider reporting this to the maintainers of org.apache.spark.unsafe.Platform\n",
      "WARNING: Use --illegal-access=warn to enable warnings of further illegal reflective access operations\n",
      "WARNING: All illegal access operations will be denied in a future release\n",
      "21/09/21 04:17:16 WARN NativeCodeLoader: Unable to load native-hadoop library for your platform... using builtin-java classes where applicable\n",
      "Using Spark's default log4j profile: org/apache/spark/log4j-defaults.properties\n",
      "Setting default log level to \"WARN\".\n",
      "To adjust logging level use sc.setLogLevel(newLevel). For SparkR, use setLogLevel(newLevel).\n",
      "21/09/21 04:17:18 WARN Utils: Service 'SparkUI' could not bind on port 4040. Attempting port 4041.\n"
     ]
    }
   ],
   "source": [
    "import pyspark \n",
    "from pyspark import SparkContext\n",
    "sc = SparkContext()\n",
    "spark = pyspark.sql.SparkSession(sc, jsparkSession=None)"
   ]
  },
  {
   "cell_type": "markdown",
   "metadata": {},
   "source": [
    "## Prepare the data"
   ]
  },
  {
   "cell_type": "code",
   "execution_count": 2,
   "metadata": {},
   "outputs": [],
   "source": [
    "# Load Chapters\n",
    "bookChaptersDF = spark.read.option(\"inferSchema\",\"true\").option(\"header\",\"true\").csv(\"bookcontents.csv\")\n",
    "\n",
    "# Load Sections\n",
    "sectionsDF = spark.read.option(\"inferSchema\",\"true\").option(\"header\",\"true\").csv(\"sections.csv\")\n",
    "\n",
    "# Join the DataFrames\n",
    "bookcontentDF = bookChaptersDF.join(sectionsDF,\"Chapter\")"
   ]
  },
  {
   "cell_type": "markdown",
   "metadata": {},
   "source": [
    "## Create temporary view of DataFrame"
   ]
  },
  {
   "cell_type": "code",
   "execution_count": 3,
   "metadata": {},
   "outputs": [],
   "source": [
    "# With that you can create and replace a view if it has already been created\n",
    "# createTempView, createOrReplaceTempView,createGlobalTempView\n",
    "bookcontentDF.createOrReplaceTempView(\"bookView\")"
   ]
  },
  {
   "cell_type": "code",
   "execution_count": 4,
   "metadata": {},
   "outputs": [
    {
     "name": "stdout",
     "output_type": "stream",
     "text": [
      "+-------+------------+----+-------+--------------------+\n",
      "|Chapter|        Name|Page|Section|        Section_Name|\n",
      "+-------+------------+----+-------+--------------------+\n",
      "|      1|Introduction|  11|    1.1|What is this Cook...|\n",
      "|      1|Introduction|  11|    1.2|Data Engineer vs ...|\n",
      "|      1|Introduction|  11|    1.3|My Data Science P...|\n",
      "|      1|Introduction|  11|    1.4|  Who Companies Need|\n",
      "+-------+------------+----+-------+--------------------+\n",
      "\n"
     ]
    }
   ],
   "source": [
    "spark.sql(\"SELECT * FROM bookView WHERE Chapter = 1\").show()"
   ]
  },
  {
   "cell_type": "markdown",
   "metadata": {},
   "source": [
    "## Create DataFrame from SparkSQL"
   ]
  },
  {
   "cell_type": "code",
   "execution_count": 5,
   "metadata": {},
   "outputs": [
    {
     "data": {
      "text/plain": [
       "[Table(name='bookview', database=None, description=None, tableType='TEMPORARY', isTemporary=True)]"
      ]
     },
     "execution_count": 5,
     "metadata": {},
     "output_type": "execute_result"
    }
   ],
   "source": [
    "spark.catalog.listTables()"
   ]
  },
  {
   "cell_type": "code",
   "execution_count": 6,
   "metadata": {},
   "outputs": [],
   "source": [
    "viewDF = spark.sql(\"SELECT * FROM bookView\")"
   ]
  },
  {
   "cell_type": "code",
   "execution_count": 7,
   "metadata": {},
   "outputs": [
    {
     "name": "stdout",
     "output_type": "stream",
     "text": [
      "+-------+--------------------+----+-------+--------------------+\n",
      "|Chapter|                Name|Page|Section|        Section_Name|\n",
      "+-------+--------------------+----+-------+--------------------+\n",
      "|      1|        Introduction|  11|    1.1|What is this Cook...|\n",
      "|      1|        Introduction|  11|    1.2|Data Engineer vs ...|\n",
      "|      1|        Introduction|  11|    1.3|My Data Science P...|\n",
      "|      1|        Introduction|  11|    1.4|  Who Companies Need|\n",
      "|      2|Basic Engineering...|  19|    2.1|       Learn To Code|\n",
      "|      2|Basic Engineering...|  19|    2.2|Get Familiar With...|\n",
      "|      2|Basic Engineering...|  19|    2.3|   Agile Development|\n",
      "|      2|Basic Engineering...|  19|    2.4|Software Engineer...|\n",
      "|      2|Basic Engineering...|  19|    2.5|Learn how a Compu...|\n",
      "|      2|Basic Engineering...|  19|    2.6|Data Network Tran...|\n",
      "|      2|Basic Engineering...|  19|    2.7|Security and Privacy|\n",
      "|      2|Basic Engineering...|  19|    2.8|               Linux|\n",
      "|      2|Basic Engineering...|  19|    2.9|              Docker|\n",
      "|      2|Basic Engineering...|  19|    2.1|           The Cloud|\n",
      "|      2|Basic Engineering...|  19|   2.11|Security Zone Design|\n",
      "|      3|Advanced Engineer...|  28|    3.1|Data Science Plat...|\n",
      "|      3|Advanced Engineer...|  28|    3.2|    Hadoop Platforms|\n",
      "|      3|Advanced Engineer...|  28|    3.3|             Connect|\n",
      "|      3|Advanced Engineer...|  28|    3.4|              Buffer|\n",
      "|      3|Advanced Engineer...|  28|    3.5|Processing Framew...|\n",
      "+-------+--------------------+----+-------+--------------------+\n",
      "only showing top 20 rows\n",
      "\n"
     ]
    }
   ],
   "source": [
    "viewDF.show()"
   ]
  },
  {
   "cell_type": "code",
   "execution_count": null,
   "metadata": {},
   "outputs": [],
   "source": []
  },
  {
   "cell_type": "code",
   "execution_count": null,
   "metadata": {},
   "outputs": [],
   "source": []
  },
  {
   "cell_type": "code",
   "execution_count": null,
   "metadata": {},
   "outputs": [],
   "source": []
  },
  {
   "cell_type": "code",
   "execution_count": null,
   "metadata": {},
   "outputs": [],
   "source": []
  },
  {
   "cell_type": "code",
   "execution_count": null,
   "metadata": {},
   "outputs": [],
   "source": []
  },
  {
   "cell_type": "code",
   "execution_count": null,
   "metadata": {},
   "outputs": [],
   "source": []
  }
 ],
 "metadata": {
  "kernelspec": {
   "display_name": "Python 3 (ipykernel)",
   "language": "python",
   "name": "python3"
  },
  "language_info": {
   "codemirror_mode": {
    "name": "ipython",
    "version": 3
   },
   "file_extension": ".py",
   "mimetype": "text/x-python",
   "name": "python",
   "nbconvert_exporter": "python",
   "pygments_lexer": "ipython3",
   "version": "3.9.6"
  }
 },
 "nbformat": 4,
 "nbformat_minor": 4
}
