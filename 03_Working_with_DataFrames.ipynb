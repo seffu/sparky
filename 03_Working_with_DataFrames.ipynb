{
 "cells": [
  {
   "cell_type": "code",
   "execution_count": 1,
   "metadata": {},
   "outputs": [
    {
     "name": "stderr",
     "output_type": "stream",
     "text": [
      "WARNING: An illegal reflective access operation has occurred\n",
      "WARNING: Illegal reflective access by org.apache.spark.unsafe.Platform (file:/usr/local/spark-3.1.2-bin-hadoop3.2/jars/spark-unsafe_2.12-3.1.2.jar) to constructor java.nio.DirectByteBuffer(long,int)\n",
      "WARNING: Please consider reporting this to the maintainers of org.apache.spark.unsafe.Platform\n",
      "WARNING: Use --illegal-access=warn to enable warnings of further illegal reflective access operations\n",
      "WARNING: All illegal access operations will be denied in a future release\n",
      "21/09/21 03:53:18 WARN NativeCodeLoader: Unable to load native-hadoop library for your platform... using builtin-java classes where applicable\n",
      "Using Spark's default log4j profile: org/apache/spark/log4j-defaults.properties\n",
      "Setting default log level to \"WARN\".\n",
      "To adjust logging level use sc.setLogLevel(newLevel). For SparkR, use setLogLevel(newLevel).\n"
     ]
    }
   ],
   "source": [
    "import pyspark \n",
    "from pyspark import SparkContext\n",
    "sc = SparkContext()\n",
    "spark = pyspark.sql.SparkSession(sc, jsparkSession=None)"
   ]
  },
  {
   "cell_type": "markdown",
   "metadata": {},
   "source": [
    "## Join Data Frames"
   ]
  },
  {
   "cell_type": "code",
   "execution_count": 2,
   "metadata": {},
   "outputs": [],
   "source": [
    "# Load Chapters\n",
    "bookChaptersDF = spark.read.option(\"inferSchema\",\"true\").option(\"header\",\"true\").csv(\"bookcontents.csv\")"
   ]
  },
  {
   "cell_type": "code",
   "execution_count": 3,
   "metadata": {},
   "outputs": [
    {
     "name": "stdout",
     "output_type": "stream",
     "text": [
      "+-------+--------------------+----+\n",
      "|Chapter|                Name|Page|\n",
      "+-------+--------------------+----+\n",
      "|      1|        Introduction|  11|\n",
      "|      2|Basic Engineering...|  19|\n",
      "|      3|Advanced Engineer...|  28|\n",
      "|      4|     Hands On Course|  60|\n",
      "|      5|        Case Studies|  62|\n",
      "|      6|Best Practices Cl...|  73|\n",
      "|      7|130+ Data Sources...|  77|\n",
      "|      8|1001 Interview Qu...|  82|\n",
      "|      9|Recommended Books...|  87|\n",
      "+-------+--------------------+----+\n",
      "\n"
     ]
    }
   ],
   "source": [
    "bookChaptersDF.show()"
   ]
  },
  {
   "cell_type": "code",
   "execution_count": 4,
   "metadata": {},
   "outputs": [
    {
     "name": "stdout",
     "output_type": "stream",
     "text": [
      "root\n",
      " |-- Chapter: integer (nullable = true)\n",
      " |-- Name: string (nullable = true)\n",
      " |-- Page: integer (nullable = true)\n",
      "\n"
     ]
    }
   ],
   "source": [
    "bookChaptersDF.printSchema()"
   ]
  },
  {
   "cell_type": "code",
   "execution_count": 5,
   "metadata": {},
   "outputs": [],
   "source": [
    "# Load Sections\n",
    "sectionsDF = spark.read.option(\"inferSchema\",\"true\").option(\"header\",\"true\").csv(\"sections.csv\")"
   ]
  },
  {
   "cell_type": "code",
   "execution_count": 6,
   "metadata": {},
   "outputs": [
    {
     "name": "stdout",
     "output_type": "stream",
     "text": [
      "root\n",
      " |-- Chapter: integer (nullable = true)\n",
      " |-- Section: double (nullable = true)\n",
      " |-- Section_Name: string (nullable = true)\n",
      "\n"
     ]
    }
   ],
   "source": [
    "sectionsDF.printSchema()"
   ]
  },
  {
   "cell_type": "code",
   "execution_count": 7,
   "metadata": {
    "scrolled": true
   },
   "outputs": [
    {
     "name": "stdout",
     "output_type": "stream",
     "text": [
      "+-------+-------+--------------------+\n",
      "|Chapter|Section|        Section_Name|\n",
      "+-------+-------+--------------------+\n",
      "|      5|    5.1| Data Science Airbnb|\n",
      "|      5|    5.2| Data Science Amazon|\n",
      "|      5|    5.3|  Data Science Baidu|\n",
      "|      5|    5.4|Data Science Blac...|\n",
      "|      5|    5.5|    Data Science BMW|\n",
      "|      5|    5.6|Data Science Book...|\n",
      "|      5|    5.7|   Data Science CERN|\n",
      "|      5|    5.8| Data Science Disney|\n",
      "|      5|    5.9|    Data Science DLR|\n",
      "|      5|    5.1|Data Science Driv...|\n",
      "|      5|   5.11|Data Science Dropbox|\n",
      "|      5|   5.12|   Data Science Ebay|\n",
      "|      5|   5.13|Data Science Expedia|\n",
      "|      5|   5.14|Data Science Face...|\n",
      "|      5|   5.15| Data Science Google|\n",
      "|      5|   5.16|Data Science Gram...|\n",
      "|      5|   5.17|Data Science ING ...|\n",
      "|      5|   5.18|Data Science Inst...|\n",
      "|      5|   5.19|Data Science Link...|\n",
      "|      5|    5.2|   Data Science Lyft|\n",
      "+-------+-------+--------------------+\n",
      "only showing top 20 rows\n",
      "\n"
     ]
    }
   ],
   "source": [
    "sectionsDF.where(\"Chapter == 5\").show()"
   ]
  },
  {
   "cell_type": "code",
   "execution_count": 8,
   "metadata": {},
   "outputs": [
    {
     "name": "stdout",
     "output_type": "stream",
     "text": [
      "+-------+--------------------+----+-------+--------------------+\n",
      "|Chapter|                Name|Page|Section|        Section_Name|\n",
      "+-------+--------------------+----+-------+--------------------+\n",
      "|      1|        Introduction|  11|    1.1|What is this Cook...|\n",
      "|      1|        Introduction|  11|    1.2|Data Engineer vs ...|\n",
      "|      1|        Introduction|  11|    1.3|My Data Science P...|\n",
      "|      1|        Introduction|  11|    1.4|  Who Companies Need|\n",
      "|      2|Basic Engineering...|  19|    2.1|       Learn To Code|\n",
      "|      2|Basic Engineering...|  19|    2.2|Get Familiar With...|\n",
      "|      2|Basic Engineering...|  19|    2.3|   Agile Development|\n",
      "|      2|Basic Engineering...|  19|    2.4|Software Engineer...|\n",
      "|      2|Basic Engineering...|  19|    2.5|Learn how a Compu...|\n",
      "|      2|Basic Engineering...|  19|    2.6|Data Network Tran...|\n",
      "|      2|Basic Engineering...|  19|    2.7|Security and Privacy|\n",
      "|      2|Basic Engineering...|  19|    2.8|               Linux|\n",
      "|      2|Basic Engineering...|  19|    2.9|              Docker|\n",
      "|      2|Basic Engineering...|  19|    2.1|           The Cloud|\n",
      "|      2|Basic Engineering...|  19|   2.11|Security Zone Design|\n",
      "+-------+--------------------+----+-------+--------------------+\n",
      "\n"
     ]
    }
   ],
   "source": [
    "# Join options\n",
    "#inner,outer,left_outer,right_outer,leftsemi\n",
    "bookChaptersDF.join(sectionsDF,\"Chapter\").where(\"Chapter == 1 or Chapter == 2 \").show()"
   ]
  },
  {
   "cell_type": "markdown",
   "metadata": {},
   "source": [
    "## Access Columns"
   ]
  },
  {
   "cell_type": "code",
   "execution_count": 9,
   "metadata": {},
   "outputs": [],
   "source": [
    "bookcontentDF = bookChaptersDF.join(sectionsDF,\"Chapter\")"
   ]
  },
  {
   "cell_type": "code",
   "execution_count": 10,
   "metadata": {},
   "outputs": [
    {
     "data": {
      "text/plain": [
       "Column<'Chapter'>"
      ]
     },
     "execution_count": 10,
     "metadata": {},
     "output_type": "execute_result"
    }
   ],
   "source": [
    "bookcontentDF.Chapter"
   ]
  },
  {
   "cell_type": "code",
   "execution_count": 11,
   "metadata": {},
   "outputs": [
    {
     "name": "stdout",
     "output_type": "stream",
     "text": [
      "+--------------------+-------+\n",
      "|        Section_Name|Chapter|\n",
      "+--------------------+-------+\n",
      "|What is this Cook...|      1|\n",
      "|Data Engineer vs ...|      1|\n",
      "|My Data Science P...|      1|\n",
      "|  Who Companies Need|      1|\n",
      "|       Learn To Code|      2|\n",
      "|Get Familiar With...|      2|\n",
      "|   Agile Development|      2|\n",
      "|Software Engineer...|      2|\n",
      "|Learn how a Compu...|      2|\n",
      "|Data Network Tran...|      2|\n",
      "|Security and Privacy|      2|\n",
      "|               Linux|      2|\n",
      "|              Docker|      2|\n",
      "|           The Cloud|      2|\n",
      "|Security Zone Design|      2|\n",
      "|Data Science Plat...|      3|\n",
      "|    Hadoop Platforms|      3|\n",
      "|             Connect|      3|\n",
      "|              Buffer|      3|\n",
      "|Processing Framew...|      3|\n",
      "+--------------------+-------+\n",
      "only showing top 20 rows\n",
      "\n"
     ]
    }
   ],
   "source": [
    "bookcontentDF.select(bookcontentDF.Section_Name,\"Chapter\").show()"
   ]
  },
  {
   "cell_type": "markdown",
   "metadata": {},
   "source": [
    "## Working With Columns Expressions"
   ]
  },
  {
   "cell_type": "code",
   "execution_count": 12,
   "metadata": {},
   "outputs": [
    {
     "name": "stdout",
     "output_type": "stream",
     "text": [
      "+--------------------+--------------+\n",
      "|        Section_Name|(Chapter * 10)|\n",
      "+--------------------+--------------+\n",
      "|What is this Cook...|            10|\n",
      "|Data Engineer vs ...|            10|\n",
      "|My Data Science P...|            10|\n",
      "|  Who Companies Need|            10|\n",
      "|       Learn To Code|            20|\n",
      "|Get Familiar With...|            20|\n",
      "|   Agile Development|            20|\n",
      "|Software Engineer...|            20|\n",
      "|Learn how a Compu...|            20|\n",
      "|Data Network Tran...|            20|\n",
      "|Security and Privacy|            20|\n",
      "|               Linux|            20|\n",
      "|              Docker|            20|\n",
      "|           The Cloud|            20|\n",
      "|Security Zone Design|            20|\n",
      "|Data Science Plat...|            30|\n",
      "|    Hadoop Platforms|            30|\n",
      "|             Connect|            30|\n",
      "|              Buffer|            30|\n",
      "|Processing Framew...|            30|\n",
      "+--------------------+--------------+\n",
      "only showing top 20 rows\n",
      "\n"
     ]
    }
   ],
   "source": [
    "# Multiply values\n",
    "bookcontentDF.select(\"Section_Name\", bookcontentDF.Chapter * 10).show()"
   ]
  },
  {
   "cell_type": "code",
   "execution_count": 13,
   "metadata": {},
   "outputs": [
    {
     "name": "stdout",
     "output_type": "stream",
     "text": [
      "+--------------------+----------+\n",
      "|        Section_Name|Chapter_10|\n",
      "+--------------------+----------+\n",
      "|What is this Cook...|        10|\n",
      "|Data Engineer vs ...|        10|\n",
      "|My Data Science P...|        10|\n",
      "|  Who Companies Need|        10|\n",
      "|       Learn To Code|        20|\n",
      "|Get Familiar With...|        20|\n",
      "|   Agile Development|        20|\n",
      "|Software Engineer...|        20|\n",
      "|Learn how a Compu...|        20|\n",
      "|Data Network Tran...|        20|\n",
      "|Security and Privacy|        20|\n",
      "|               Linux|        20|\n",
      "|              Docker|        20|\n",
      "|           The Cloud|        20|\n",
      "|Security Zone Design|        20|\n",
      "|Data Science Plat...|        30|\n",
      "|    Hadoop Platforms|        30|\n",
      "|             Connect|        30|\n",
      "|              Buffer|        30|\n",
      "|Processing Framew...|        30|\n",
      "+--------------------+----------+\n",
      "only showing top 20 rows\n",
      "\n"
     ]
    }
   ],
   "source": [
    "# Use aliases for columns\n",
    "bookcontentDF.select(\"Section_Name\", (bookcontentDF.Chapter * 10).alias(\"Chapter_10\")).show()"
   ]
  },
  {
   "cell_type": "code",
   "execution_count": 14,
   "metadata": {},
   "outputs": [
    {
     "name": "stdout",
     "output_type": "stream",
     "text": [
      "+-------+--------------------+----+-------+--------------------+\n",
      "|Chapter|                Name|Page|Section|        Section_Name|\n",
      "+-------+--------------------+----+-------+--------------------+\n",
      "|      1|        Introduction|  11|    1.2|Data Engineer vs ...|\n",
      "|      1|        Introduction|  11|    1.3|My Data Science P...|\n",
      "|      2|Basic Engineering...|  19|    2.6|Data Network Tran...|\n",
      "|      3|Advanced Engineer...|  28|    3.1|Data Science Plat...|\n",
      "|      4|     Hands On Course|  60|    4.6|Apache Zeppelin D...|\n",
      "|      5|        Case Studies|  62|    5.1| Data Science Airbnb|\n",
      "|      5|        Case Studies|  62|    5.2| Data Science Amazon|\n",
      "|      5|        Case Studies|  62|    5.3|  Data Science Baidu|\n",
      "|      5|        Case Studies|  62|    5.4|Data Science Blac...|\n",
      "|      5|        Case Studies|  62|    5.5|    Data Science BMW|\n",
      "|      5|        Case Studies|  62|    5.6|Data Science Book...|\n",
      "|      5|        Case Studies|  62|    5.7|   Data Science CERN|\n",
      "|      5|        Case Studies|  62|    5.8| Data Science Disney|\n",
      "|      5|        Case Studies|  62|    5.9|    Data Science DLR|\n",
      "|      5|        Case Studies|  62|    5.1|Data Science Driv...|\n",
      "|      5|        Case Studies|  62|   5.11|Data Science Dropbox|\n",
      "|      5|        Case Studies|  62|   5.12|   Data Science Ebay|\n",
      "|      5|        Case Studies|  62|   5.13|Data Science Expedia|\n",
      "|      5|        Case Studies|  62|   5.14|Data Science Face...|\n",
      "|      5|        Case Studies|  62|   5.15| Data Science Google|\n",
      "+-------+--------------------+----+-------+--------------------+\n",
      "only showing top 20 rows\n",
      "\n"
     ]
    }
   ],
   "source": [
    "# Selet something specific\n",
    "bookcontentDF.where(bookcontentDF.Section_Name.contains(\"Data\")).show()"
   ]
  },
  {
   "cell_type": "code",
   "execution_count": null,
   "metadata": {},
   "outputs": [],
   "source": []
  },
  {
   "cell_type": "markdown",
   "metadata": {},
   "source": [
    "## Group By + Aggregation Function"
   ]
  },
  {
   "cell_type": "code",
   "execution_count": 15,
   "metadata": {},
   "outputs": [
    {
     "name": "stderr",
     "output_type": "stream",
     "text": [
      "\r",
      "[Stage 24:===================================================>   (93 + 4) / 100]\r",
      "\r",
      "                                                                                \r"
     ]
    },
    {
     "name": "stdout",
     "output_type": "stream",
     "text": [
      "+-------+-----+\n",
      "|Chapter|count|\n",
      "+-------+-----+\n",
      "|      1|    4|\n",
      "|      6|    3|\n",
      "|      3|    8|\n",
      "|      5|   37|\n",
      "|      9|    3|\n",
      "|      4|    7|\n",
      "|      8|    1|\n",
      "|      7|   19|\n",
      "|      2|   11|\n",
      "+-------+-----+\n",
      "\n"
     ]
    }
   ],
   "source": [
    "# Group by aggregation options:\n",
    "# agg(additional functions), count, mean, max or min, pivot, sum\n",
    "bookcontentDF.groupBy(bookcontentDF.Chapter).count().show()"
   ]
  },
  {
   "cell_type": "code",
   "execution_count": null,
   "metadata": {},
   "outputs": [],
   "source": []
  },
  {
   "cell_type": "code",
   "execution_count": null,
   "metadata": {},
   "outputs": [],
   "source": []
  },
  {
   "cell_type": "code",
   "execution_count": null,
   "metadata": {},
   "outputs": [],
   "source": []
  },
  {
   "cell_type": "code",
   "execution_count": null,
   "metadata": {},
   "outputs": [],
   "source": []
  }
 ],
 "metadata": {
  "kernelspec": {
   "display_name": "Python 3 (ipykernel)",
   "language": "python",
   "name": "python3"
  },
  "language_info": {
   "codemirror_mode": {
    "name": "ipython",
    "version": 3
   },
   "file_extension": ".py",
   "mimetype": "text/x-python",
   "name": "python",
   "nbconvert_exporter": "python",
   "pygments_lexer": "ipython3",
   "version": "3.9.6"
  }
 },
 "nbformat": 4,
 "nbformat_minor": 4
}
